{
  "nbformat": 4,
  "nbformat_minor": 0,
  "metadata": {
    "colab": {
      "provenance": []
    },
    "kernelspec": {
      "name": "python3",
      "display_name": "Python 3"
    },
    "language_info": {
      "name": "python"
    }
  },
  "cells": [
    {
      "cell_type": "markdown",
      "source": [
        "Name: Tahmid Hossain Jit  ID:2020345"
      ],
      "metadata": {
        "id": "w1ZrcVZcMWlC"
      }
    },
    {
      "cell_type": "code",
      "source": [
        "import numpy as np\n",
        "\n",
        "class PuzzleNode:\n",
        "    def __init__(self, state, parent=None, action=None):\n",
        "        self.state = state\n",
        "        self.parent = parent\n",
        "        self.action = action\n",
        "\n",
        "    def __eq__(self, other):\n",
        "        return np.array_equal(self.state, other.state)\n",
        "\n",
        "    def __hash__(self):\n",
        "        return hash(self.state.tostring())\n",
        "\n",
        "def print_solution(node):\n",
        "    actions = []\n",
        "    while node.parent:\n",
        "        actions.insert(0, node.action)\n",
        "        node = node.parent\n",
        "    return actions\n",
        "\n",
        "def is_goal(state, goal_state):\n",
        "    return np.array_equal(state, goal_state)\n",
        "\n",
        "def get_neighbors(node):\n",
        "    neighbors = []\n",
        "    empty_row, empty_col = np.where(node.state == -1)\n",
        "    directions = [(1, 0, \"DOWN\"), (-1, 0, \"UP\"), (0, 1, \"RIGHT\"), (0, -1, \"LEFT\")]\n",
        "\n",
        "    for dr, dc, move in directions:\n",
        "        new_row, new_col = empty_row + dr, empty_col + dc\n",
        "        if 0 <= new_row < 3 and 0 <= new_col < 3:\n",
        "            new_state = node.state.copy()\n",
        "            new_state[empty_row, empty_col], new_state[new_row, new_col] = new_state[new_row, new_col], new_state[empty_row, empty_col]\n",
        "            neighbors.append(PuzzleNode(new_state, node, move))\n",
        "    return neighbors\n",
        "\n",
        "def iddfs(initial_state, goal_state):\n",
        "    for depth_limit in range(100):\n",
        "        result = dls(PuzzleNode(initial_state), goal_state, depth_limit)\n",
        "        if result:\n",
        "            return result\n",
        "\n",
        "def dls(node, goal_state, depth_limit):\n",
        "    if is_goal(node.state, goal_state):\n",
        "        return print_solution(node)\n",
        "    if depth_limit == 0:\n",
        "        return None\n",
        "    if len(print_solution(node)) > depth_limit:\n",
        "        return None\n",
        "\n",
        "    for neighbor in get_neighbors(node):\n",
        "        result = dls(neighbor, goal_state, depth_limit - 1)\n",
        "        if result is not None:\n",
        "            return result\n",
        "\n",
        "    return None\n",
        "\n",
        "initial_state_input = input(\"Enter the initial state as a 3x3 matrix (e.g., 1 2 3; 5 6 -1; 7 8 4): \")\n",
        "initial_state = np.array([[int(x) for x in row.split()] for row in initial_state_input.split(';')])\n",
        "\n",
        "goal_state_input = input(\"Enter the final state as a 3x3 matrix (e.g., 1 2 3; 4 5 6; 7 8 -1): \")\n",
        "goal_state = np.array([[int(x) for x in row.split()] for row in goal_state_input.split(';')])\n",
        "\n",
        "solution = iddfs(initial_state, goal_state)\n",
        "if solution:\n",
        "    print(\"Solution:\", solution)\n",
        "else:\n",
        "    print(\"No solution found.\")"
      ],
      "metadata": {
        "colab": {
          "base_uri": "https://localhost:8080/"
        },
        "id": "IrGLN7guY2FU",
        "outputId": "0d3d8f93-a1ee-4844-e333-3c5f5407635d"
      },
      "execution_count": null,
      "outputs": [
        {
          "output_type": "stream",
          "name": "stdout",
          "text": [
            "Enter the initial state as a 3x3 matrix (e.g., 1 2 3; 5 6 -1; 7 8 4): 1 2 3; 5 6 -1;7 8 4\n",
            "Enter the final state as a 3x3 matrix (e.g., 1 2 3; 4 5 6; 7 8 -1): 1 2 3;4 5 6;7 8 -1\n",
            "No solution found.\n"
          ]
        }
      ]
    },
    {
      "cell_type": "code",
      "source": [],
      "metadata": {
        "id": "I_75TZdw-_It"
      },
      "execution_count": null,
      "outputs": []
    }
  ]
}